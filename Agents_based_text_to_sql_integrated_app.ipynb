{
 "cells": [
  {
   "cell_type": "markdown",
   "metadata": {},
   "source": [
    "# I. Tools"
   ]
  },
  {
   "cell_type": "code",
   "execution_count": null,
   "metadata": {},
   "outputs": [],
   "source": [
    "from transformers import Tool, pipeline\n",
    "\n",
    "\n",
    "class NLQsShield(Tool):\n",
    "    name = \"nlq_shield\"\n",
    "    description = (\"This is a tool that detects malicious natural language questions in a text-to-sql task. It takes a natural language question as input, and returns MALICIOUS if the question is malcious and SAFE else.\")\n",
    "\n",
    "    inputs = [\"text\"]\n",
    "    outputs = [\"text\"]\n",
    "\n",
    "\n",
    "    def __call__(self, question):\n",
    "        classifier = pipeline(\"text-classification\", model=\"salmane11/SQLPromptShield4\", device = 0)\n",
    "        return classifier(question)[0][\"label\"]"
   ]
  },
  {
   "cell_type": "code",
   "execution_count": null,
   "metadata": {},
   "outputs": [],
   "source": [
    "class SQLShield(Tool):\n",
    "    name = \"sql_shield\"\n",
    "    description = (\"This is a tool that detects malicious SQL queries. It takes an SQL query as input, and returns MALICIOUS if the query is malcious and SAFE else.\")\n",
    "\n",
    "    inputs = [\"text\"]\n",
    "    outputs = [\"text\"]\n",
    "\n",
    "\n",
    "    def __call__(self, query):\n",
    "        classifier = pipeline(\"text-classification\", model=\"salmane11/SQLQueryShield2\", device = 0)\n",
    "        return classifier(query)[0][\"label\"]"
   ]
  },
  {
   "cell_type": "code",
   "execution_count": null,
   "metadata": {},
   "outputs": [],
   "source": [
    "from openai import OpenAI\n",
    "class SQLGenerator(Tool):\n",
    "    name = \"sql_generator\"\n",
    "    description = (\"This is a tool that generate sql queries from a natural language question. It takes a question, and its context as input, and returns its related sql query.\")\n",
    "\n",
    "    inputs = [\"text\", \"text\"]\n",
    "    outputs = [\"text\"]\n",
    "    \n",
    "\n",
    "    def __call__(self, question, context):\n",
    "        \n",
    "        client = OpenAI(api_key = \"your_api_key\")\n",
    "\n",
    "        completion = client.chat.completions.create(\n",
    "        model=\"gpt-3.5-turbo\",\n",
    "        messages=[\n",
    "            {\"role\": \"system\", \"content\": f\"You are an SQL assistant. Answer the following question using SQL on this context {context}. Provide only the query.\"},\n",
    "            {\"role\": \"user\", \"content\": question}\n",
    "          ]\n",
    "        )\n",
    "\n",
    "\n",
    "        return completion.choices[0].message.content"
   ]
  },
  {
   "cell_type": "markdown",
   "metadata": {},
   "source": [
    "# I. OpenAI Agent:"
   ]
  },
  {
   "cell_type": "code",
   "execution_count": null,
   "metadata": {},
   "outputs": [],
   "source": [
    "from transformers import OpenAiAgent\n",
    "template = \"\"\"I will ask you to perform a task, your job is to come up with a series of simple commands in Python that will perform the task.\n",
    "To help you, I will give you access to a set of tools that you can use. Each tool is a Python function and has a description explaining the task it performs, the inputs it expects and the outputs it returns.\n",
    "You should first explain which tool you will use to perform the task and for what reason, then write the code in Python.\n",
    "Each instruction in Python should be a simple assignment. You can print intermediate results if it makes sense to do so.\n",
    "\n",
    "Tools:\n",
    "<<all_tools>>\n",
    "\n",
    "\n",
    "Task: \"Check the safety of the question in the variable `question` before generating its related SQL query. Then check the safety of the generated query\"\n",
    "\n",
    "I will use the following tools: `nlq_shield` to check the question safety, then `sql_generator` to generate the SQL query, then `sql_shield` to check the query safety.\n",
    "\n",
    "Answer:\n",
    "```py\n",
    "question_safety = nlq_shield(question)\n",
    "print(f\"The question is {question_safety}.\")\n",
    "if(question_safety==\"SAFE\"):\n",
    "  sql_query = sql_generator(question)\n",
    "  print(f\"The SQL query is {sql_query}.\")\n",
    "  \n",
    "  sql_query_safety = sql_shield(sql_query)\n",
    "  print(f\"The SQL query is {sql_query_safety}.\")\n",
    "else:\n",
    "  print(\"ALERT\")\n",
    "```\n",
    "\n",
    "\n",
    "Task: \"Before generating the SQL query related to the variable `question`, ensure its safety. Subsequently, verify the safety of the generated query.\"\n",
    "\n",
    "I will use the following tools: `nlq_shield` to check the question safety, then `sql_generator` to generate the SQL query, then `sql_shield` to check the query safety.\n",
    "\n",
    "Answer:\n",
    "```py\n",
    "question_safety = nlq_shield(question)\n",
    "print(f\"The question is {question_safety}.\")\n",
    "if(question_safety==\"SAFE\"):\n",
    "  sql_query = sql_generator(question, context)\n",
    "  print(f\"The SQL query is {sql_query}.\")\n",
    "  \n",
    "  sql_query_safety = sql_shield(sql_query)\n",
    "  print(f\"The SQL query is {sql_query_safety}.\")\n",
    "else:\n",
    "  print(\"ALERT\")\n",
    "```\n",
    "\n",
    "\n",
    "Task: \"<<prompt>>\"\n",
    "\n",
    "I will use the following\"\"\"\n",
    "agent = OpenAiAgent(model=\"gpt-3.5-turbo\", api_key=\"your_api_key\",additional_tools=[SQLShield(),NLQsShield(), SQLGenerator()], run_prompt_template=template)"
   ]
  },
  {
   "cell_type": "code",
   "execution_count": null,
   "metadata": {},
   "outputs": [],
   "source": [
    "result = agent.run(\"Before we proceed with transforming the question into an SQL query, could you please check the question safety. Once we have the SQL query generated, we'll check its safety\", question = 'list the students with high scores',context='create table students(name varchar(10),score number, full_name varchar(10), class varchar(10))')"
   ]
  }
 ],
 "metadata": {
  "kernelspec": {
   "display_name": "Python 3",
   "language": "python",
   "name": "python3"
  },
  "language_info": {
   "codemirror_mode": {
    "name": "ipython",
    "version": 3
   },
   "file_extension": ".py",
   "mimetype": "text/x-python",
   "name": "python",
   "nbconvert_exporter": "python",
   "pygments_lexer": "ipython3",
   "version": "3.8.5"
  }
 },
 "nbformat": 4,
 "nbformat_minor": 4
}
